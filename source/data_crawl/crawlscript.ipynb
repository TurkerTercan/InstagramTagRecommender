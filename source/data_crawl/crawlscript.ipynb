{
 "cells": [
  {
   "cell_type": "code",
   "execution_count": 1,
   "metadata": {
    "collapsed": true
   },
   "outputs": [],
   "source": [
    "from crawl import crawl_data\n",
    "import os\n",
    "import pandas as pd"
   ]
  },
  {
   "cell_type": "code",
   "execution_count": 2,
   "outputs": [],
   "source": [
    "hashtags = [\"cat\"]\n",
    "n_hashtag = 300"
   ],
   "metadata": {
    "collapsed": false,
    "pycharm": {
     "name": "#%%\n"
    }
   }
  },
  {
   "cell_type": "code",
   "execution_count": 3,
   "outputs": [
    {
     "name": "stdout",
     "output_type": "stream",
     "text": [
      "[Errno 17] File exists: '../../dataset'\n",
      "[Errno 17] File exists: '../../dataset/data'\n",
      "[Errno 17] File exists: '../../dataset/metadata'\n"
     ]
    }
   ],
   "source": [
    "folder_names = [\"../../dataset\", \"../../dataset/data\", \"../../dataset/metadata\"]\n",
    "for folder_name in folder_names:\n",
    "    try:\n",
    "        os.mkdir(folder_name)\n",
    "    except OSError as e:\n",
    "        print(e)"
   ],
   "metadata": {
    "collapsed": false,
    "pycharm": {
     "name": "#%%\n"
    }
   }
  },
  {
   "cell_type": "code",
   "execution_count": null,
   "outputs": [
    {
     "name": "stderr",
     "output_type": "stream",
     "text": [
      "[INFO:2022-03-23 21:48:50] Firefox started.\n",
      "\n",
      "\n",
      "====== WebDriver manager ======\n",
      "Current firefox version is 98.0\n",
      "Get LATEST geckodriver version for 98.0 firefox\n",
      "Driver [/home/ttwicer/.wdm/drivers/geckodriver/linux64/v0.30.0/geckodriver] found in cache\n",
      "[INFO:2022-03-23 21:48:54] Login to Instagram\n",
      "[INFO:2022-03-23 21:49:18] Trying to get 300 posts for each hashtag.\n",
      "[INFO:2022-03-23 21:49:18] cat hashtag started.\n"
     ]
    }
   ],
   "source": [
    "crawl_data(hashtags=hashtags, n=n_hashtag, delay=5)"
   ],
   "metadata": {
    "collapsed": false,
    "pycharm": {
     "name": "#%%\n",
     "is_executing": true
    }
   }
  },
  {
   "cell_type": "code",
   "execution_count": null,
   "outputs": [],
   "source": [
    "cat_df = pd.read_json('../../dataset/metadata/cat.json')\n",
    "print(cat_df)"
   ],
   "metadata": {
    "collapsed": false,
    "pycharm": {
     "name": "#%%\n",
     "is_executing": true
    }
   }
  },
  {
   "cell_type": "code",
   "execution_count": null,
   "outputs": [],
   "source": [],
   "metadata": {
    "collapsed": false,
    "pycharm": {
     "name": "#%%\n",
     "is_executing": true
    }
   }
  },
  {
   "cell_type": "code",
   "execution_count": null,
   "outputs": [],
   "source": [],
   "metadata": {
    "collapsed": false,
    "pycharm": {
     "name": "#%%\n",
     "is_executing": true
    }
   }
  }
 ],
 "metadata": {
  "kernelspec": {
   "display_name": "Python 3",
   "language": "python",
   "name": "python3"
  },
  "language_info": {
   "codemirror_mode": {
    "name": "ipython",
    "version": 2
   },
   "file_extension": ".py",
   "mimetype": "text/x-python",
   "name": "python",
   "nbconvert_exporter": "python",
   "pygments_lexer": "ipython2",
   "version": "2.7.6"
  }
 },
 "nbformat": 4,
 "nbformat_minor": 0
}